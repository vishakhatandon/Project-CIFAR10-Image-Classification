{
  "nbformat": 4,
  "nbformat_minor": 0,
  "metadata": {
    "colab": {
      "name": "Cifar10 CNN",
      "provenance": []
    },
    "kernelspec": {
      "name": "python3",
      "display_name": "Python 3"
    },
    "accelerator": "GPU"
  },
  "cells": [
    {
      "cell_type": "code",
      "metadata": {
        "id": "qecmNgjMv2H6"
      },
      "source": [
        "import tensorflow as tf\n",
        "from tensorflow.keras import datasets, layers, models\n",
        "import matplotlib.pyplot as plt\n",
        "import numpy as np"
      ],
      "execution_count": 1,
      "outputs": []
    },
    {
      "cell_type": "code",
      "metadata": {
        "colab": {
          "base_uri": "https://localhost:8080/"
        },
        "id": "6mgektTdv6bI",
        "outputId": "9b64f76f-1e84-4310-92cd-89aa6f784353"
      },
      "source": [
        "(X_train, y_train), (X_test,y_test) = datasets.cifar10.load_data()\n",
        "X_train.shape"
      ],
      "execution_count": 2,
      "outputs": [
        {
          "output_type": "stream",
          "text": [
            "Downloading data from https://www.cs.toronto.edu/~kriz/cifar-10-python.tar.gz\n",
            "170500096/170498071 [==============================] - 2s 0us/step\n"
          ],
          "name": "stdout"
        },
        {
          "output_type": "execute_result",
          "data": {
            "text/plain": [
              "(50000, 32, 32, 3)"
            ]
          },
          "metadata": {
            "tags": []
          },
          "execution_count": 2
        }
      ]
    },
    {
      "cell_type": "code",
      "metadata": {
        "colab": {
          "base_uri": "https://localhost:8080/"
        },
        "id": "qUqsjbWxwJVW",
        "outputId": "839fb06d-778e-47cf-ecd1-68336290be5d"
      },
      "source": [
        "y_train[:5]"
      ],
      "execution_count": 3,
      "outputs": [
        {
          "output_type": "execute_result",
          "data": {
            "text/plain": [
              "array([[6],\n",
              "       [9],\n",
              "       [9],\n",
              "       [4],\n",
              "       [1]], dtype=uint8)"
            ]
          },
          "metadata": {
            "tags": []
          },
          "execution_count": 3
        }
      ]
    },
    {
      "cell_type": "code",
      "metadata": {
        "colab": {
          "base_uri": "https://localhost:8080/"
        },
        "id": "QVYNlwgRzFTI",
        "outputId": "75e8b151-edac-43b8-f5e9-d3ab55755b64"
      },
      "source": [
        "y_train=y_train.reshape(-1,)\n",
        "y_train.shape"
      ],
      "execution_count": 5,
      "outputs": [
        {
          "output_type": "execute_result",
          "data": {
            "text/plain": [
              "(50000,)"
            ]
          },
          "metadata": {
            "tags": []
          },
          "execution_count": 5
        }
      ]
    },
    {
      "cell_type": "code",
      "metadata": {
        "id": "yUhdU7Rq_-Oz"
      },
      "source": [
        "\n",
        "y_test = y_test.reshape(-1,)"
      ],
      "execution_count": 32,
      "outputs": []
    },
    {
      "cell_type": "code",
      "metadata": {
        "id": "Os8x1NJmzSPF"
      },
      "source": [
        "classes = [\"airplane\",\"automobile\",\"bird\",\"cat\",\"deer\",\"dog\",\"frog\",\"horse\",\"ship\",\"truck\"]"
      ],
      "execution_count": 6,
      "outputs": []
    },
    {
      "cell_type": "code",
      "metadata": {
        "id": "0r08nOD0zbwP"
      },
      "source": [
        "def plot_sample(X,y,index):\n",
        "\n",
        "  plt.figure(figsize = (15,2))\n",
        "  plt.imshow(X[index])\n",
        "  plt.xlabel(classes[y[index]])"
      ],
      "execution_count": 30,
      "outputs": []
    },
    {
      "cell_type": "code",
      "metadata": {
        "colab": {
          "base_uri": "https://localhost:8080/",
          "height": 173
        },
        "id": "e0Xk0J2DzvTh",
        "outputId": "81d878c7-d168-45eb-b380-02cc28928e99"
      },
      "source": [
        "plot_sample(X_train,y_train,0)"
      ],
      "execution_count": 31,
      "outputs": [
        {
          "output_type": "display_data",
          "data": {
            "image/png": "[encoded data removed]",
            "text/plain": [
              "<Figure size 1080x144 with 1 Axes>"
            ]
          },
          "metadata": {
            "tags": [],
            "needs_background": "light"
          }
        }
      ]
    },
    {
      "cell_type": "code",
      "metadata": {
        "id": "iO3sXZ0Ez_Jk"
      },
      "source": [
        "X_train = X_train / 255.0\n",
        "X_test = X_test / 255.0"
      ],
      "execution_count": 16,
      "outputs": []
    },
    {
      "cell_type": "code",
      "metadata": {
        "colab": {
          "base_uri": "https://localhost:8080/"
        },
        "id": "z-HdFR2Q1g7I",
        "outputId": "e13b94b2-f298-4760-cd0e-fb7a7d7536e9"
      },
      "source": [
        "      ann = models.Sequential([\n",
        "        layers.Flatten(input_shape=(32,32,3)),\n",
        "        layers.Dense(3000, activation='relu'),\n",
        "        layers.Dense(1000, activation='relu'),\n",
        "        layers.Dense(10, activation='sigmoid')    \n",
        "    ])\n",
        "\n",
        "ann.compile(optimizer='SGD',\n",
        "              loss='sparse_categorical_crossentropy',\n",
        "              metrics=['accuracy'])\n",
        "\n",
        "ann.fit(X_train, y_train, epochs=5)\n",
        "\n"
      ],
      "execution_count": 17,
      "outputs": [
        {
          "output_type": "stream",
          "text": [
            "Epoch 1/5\n",
            "1563/1563 [==============================] - 5s 3ms/step - loss: 1.8604 - accuracy: 0.3350\n",
            "Epoch 2/5\n",
            "1563/1563 [==============================] - 5s 3ms/step - loss: 1.6602 - accuracy: 0.4124\n",
            "Epoch 3/5\n",
            "1563/1563 [==============================] - 5s 3ms/step - loss: 1.5711 - accuracy: 0.4466\n",
            "Epoch 4/5\n",
            "1563/1563 [==============================] - 5s 3ms/step - loss: 1.5078 - accuracy: 0.4662\n",
            "Epoch 5/5\n",
            "1563/1563 [==============================] - 5s 3ms/step - loss: 1.4589 - accuracy: 0.4875\n"
          ],
          "name": "stdout"
        },
        {
          "output_type": "execute_result",
          "data": {
            "text/plain": [
              "<tensorflow.python.keras.callbacks.History at 0x7f9630164fd0>"
            ]
          },
          "metadata": {
            "tags": []
          },
          "execution_count": 17
        }
      ]
    },
    {
      "cell_type": "code",
      "metadata": {
        "colab": {
          "base_uri": "https://localhost:8080/"
        },
        "id": "gemgabWy-M05",
        "outputId": "30c9efd1-04ac-4caa-d16d-c570e3ac7996"
      },
      "source": [
        "from sklearn.metrics import confusion_matrix , classification_report\n",
        "import numpy as np\n",
        "y_pred = ann.predict(X_test)\n",
        "y_pred_classes = [np.argmax(element) for element in y_pred]\n",
        "\n",
        "print(\"Classification Report: \\n\", classification_report(y_test, y_pred_classes))"
      ],
      "execution_count": 18,
      "outputs": [
        {
          "output_type": "stream",
          "text": [
            "Classification Report: \n",
            "               precision    recall  f1-score   support\n",
            "\n",
            "           0       0.62      0.44      0.52      1000\n",
            "           1       0.58      0.49      0.53      1000\n",
            "           2       0.43      0.20      0.28      1000\n",
            "           3       0.47      0.12      0.20      1000\n",
            "           4       0.42      0.36      0.39      1000\n",
            "           5       0.50      0.23      0.31      1000\n",
            "           6       0.56      0.42      0.48      1000\n",
            "           7       0.29      0.75      0.41      1000\n",
            "           8       0.67      0.38      0.49      1000\n",
            "           9       0.32      0.80      0.46      1000\n",
            "\n",
            "    accuracy                           0.42     10000\n",
            "   macro avg       0.49      0.42      0.41     10000\n",
            "weighted avg       0.49      0.42      0.41     10000\n",
            "\n"
          ],
          "name": "stdout"
        }
      ]
    },
    {
      "cell_type": "code",
      "metadata": {
        "id": "u6WQxTYC-Vio"
      },
      "source": [
        "cnn = models.Sequential([\n",
        "    layers.Conv2D(filters=32, kernel_size=(3, 3), activation='relu', input_shape=(32, 32, 3)),\n",
        "    layers.MaxPooling2D((2, 2)),\n",
        "    \n",
        "    layers.Conv2D(filters=64, kernel_size=(3, 3), activation='relu'),\n",
        "    layers.MaxPooling2D((2, 2)),\n",
        "    \n",
        "    layers.Flatten(),\n",
        "    layers.Dense(64, activation='relu'),\n",
        "    layers.Dense(10, activation='softmax')\n",
        "])"
      ],
      "execution_count": 20,
      "outputs": []
    },
    {
      "cell_type": "code",
      "metadata": {
        "id": "NkDHVbi1-bTK"
      },
      "source": [
        "cnn.compile(optimizer='adam',\n",
        "              loss='sparse_categorical_crossentropy',\n",
        "              metrics=['accuracy'])"
      ],
      "execution_count": 21,
      "outputs": []
    },
    {
      "cell_type": "code",
      "metadata": {
        "colab": {
          "base_uri": "https://localhost:8080/"
        },
        "id": "iDT-CVNq-heI",
        "outputId": "4d4af445-04ae-45aa-bf85-b186b169d74c"
      },
      "source": [
        "cnn.fit(X_train, y_train, epochs=20)"
      ],
      "execution_count": 22,
      "outputs": [
        {
          "output_type": "stream",
          "text": [
            "Epoch 1/20\n",
            "1563/1563 [==============================] - 5s 3ms/step - loss: 1.4637 - accuracy: 0.4729\n",
            "Epoch 2/20\n",
            "1563/1563 [==============================] - 5s 3ms/step - loss: 1.1065 - accuracy: 0.6122\n",
            "Epoch 3/20\n",
            "1563/1563 [==============================] - 5s 3ms/step - loss: 0.9859 - accuracy: 0.6544\n",
            "Epoch 4/20\n",
            "1563/1563 [==============================] - 5s 3ms/step - loss: 0.9020 - accuracy: 0.6859\n",
            "Epoch 5/20\n",
            "1563/1563 [==============================] - 5s 3ms/step - loss: 0.8326 - accuracy: 0.7087\n",
            "Epoch 6/20\n",
            "1563/1563 [==============================] - 5s 3ms/step - loss: 0.7734 - accuracy: 0.7290\n",
            "Epoch 7/20\n",
            "1563/1563 [==============================] - 5s 3ms/step - loss: 0.7239 - accuracy: 0.7461\n",
            "Epoch 8/20\n",
            "1563/1563 [==============================] - 5s 3ms/step - loss: 0.6800 - accuracy: 0.7620\n",
            "Epoch 9/20\n",
            "1563/1563 [==============================] - 5s 3ms/step - loss: 0.6401 - accuracy: 0.7757\n",
            "Epoch 10/20\n",
            "1563/1563 [==============================] - 5s 3ms/step - loss: 0.6053 - accuracy: 0.7889\n",
            "Epoch 11/20\n",
            "1563/1563 [==============================] - 5s 3ms/step - loss: 0.5694 - accuracy: 0.8018\n",
            "Epoch 12/20\n",
            "1563/1563 [==============================] - 5s 3ms/step - loss: 0.5393 - accuracy: 0.8118\n",
            "Epoch 13/20\n",
            "1563/1563 [==============================] - 5s 3ms/step - loss: 0.5071 - accuracy: 0.8214\n",
            "Epoch 14/20\n",
            "1563/1563 [==============================] - 5s 3ms/step - loss: 0.4820 - accuracy: 0.8295\n",
            "Epoch 15/20\n",
            "1563/1563 [==============================] - 5s 3ms/step - loss: 0.4543 - accuracy: 0.8389\n",
            "Epoch 16/20\n",
            "1563/1563 [==============================] - 5s 3ms/step - loss: 0.4252 - accuracy: 0.8499\n",
            "Epoch 17/20\n",
            "1563/1563 [==============================] - 5s 3ms/step - loss: 0.4120 - accuracy: 0.8548\n",
            "Epoch 18/20\n",
            "1563/1563 [==============================] - 5s 3ms/step - loss: 0.3860 - accuracy: 0.8625\n",
            "Epoch 19/20\n",
            "1563/1563 [==============================] - 5s 3ms/step - loss: 0.3666 - accuracy: 0.8701\n",
            "Epoch 20/20\n",
            "1563/1563 [==============================] - 5s 3ms/step - loss: 0.3465 - accuracy: 0.8760\n"
          ],
          "name": "stdout"
        },
        {
          "output_type": "execute_result",
          "data": {
            "text/plain": [
              "<tensorflow.python.keras.callbacks.History at 0x7f95bcd37ba8>"
            ]
          },
          "metadata": {
            "tags": []
          },
          "execution_count": 22
        }
      ]
    },
    {
      "cell_type": "code",
      "metadata": {
        "colab": {
          "base_uri": "https://localhost:8080/"
        },
        "id": "rlDB8sAi-mxS",
        "outputId": "993128c5-0b4c-48b0-e83f-6bf3be4c7d75"
      },
      "source": [
        "cnn.evaluate(X_test,y_test)"
      ],
      "execution_count": 23,
      "outputs": [
        {
          "output_type": "stream",
          "text": [
            "313/313 [==============================] - 1s 2ms/step - loss: 1.2352 - accuracy: 0.6870\n"
          ],
          "name": "stdout"
        },
        {
          "output_type": "execute_result",
          "data": {
            "text/plain": [
              "[1.235207438468933, 0.6869999766349792]"
            ]
          },
          "metadata": {
            "tags": []
          },
          "execution_count": 23
        }
      ]
    },
    {
      "cell_type": "code",
      "metadata": {
        "colab": {
          "base_uri": "https://localhost:8080/"
        },
        "id": "dImUUL_f-vWC",
        "outputId": "4fa704be-f158-43d9-f49a-80a5facf5910"
      },
      "source": [
        "y_pred = cnn.predict(X_test)\n",
        "y_pred[:5]"
      ],
      "execution_count": 24,
      "outputs": [
        {
          "output_type": "execute_result",
          "data": {
            "text/plain": [
              "array([[1.4355582e-03, 1.7206427e-06, 1.3400789e-06, 9.7768241e-01,\n",
              "        4.6741729e-08, 4.6387301e-03, 1.6058076e-02, 4.2901314e-07,\n",
              "        1.8127688e-04, 4.1124230e-07],\n",
              "       [2.4056445e-04, 1.8959820e-02, 7.0236644e-10, 1.2708362e-10,\n",
              "        5.7205486e-12, 2.7378302e-17, 1.6463274e-12, 2.4653516e-16,\n",
              "        9.8079932e-01, 2.4601559e-07],\n",
              "       [6.4817065e-04, 5.9632868e-02, 6.2559011e-06, 1.5545238e-04,\n",
              "        2.0433188e-06, 4.6121738e-08, 1.1761039e-06, 1.9986852e-07,\n",
              "        9.3723476e-01, 2.3189755e-03],\n",
              "       [6.0140890e-01, 3.6810303e-01, 1.1606623e-03, 2.9152001e-03,\n",
              "        1.2272044e-05, 5.4139667e-07, 2.0081286e-06, 1.5332531e-03,\n",
              "        2.4864115e-02, 5.7541612e-08],\n",
              "       [7.5084987e-09, 7.7145266e-08, 3.4163345e-04, 1.4918158e-04,\n",
              "        9.7067552e-03, 8.2743992e-07, 9.8980159e-01, 6.1629396e-10,\n",
              "        3.6488139e-08, 3.4702342e-11]], dtype=float32)"
            ]
          },
          "metadata": {
            "tags": []
          },
          "execution_count": 24
        }
      ]
    },
    {
      "cell_type": "code",
      "metadata": {
        "colab": {
          "base_uri": "https://localhost:8080/"
        },
        "id": "XAKfqgB--wOh",
        "outputId": "edc5f7ce-df60-4415-e565-223888ef35df"
      },
      "source": [
        "y_classes = [np.argmax(element) for element in y_pred]\n",
        "y_classes[:5]"
      ],
      "execution_count": 25,
      "outputs": [
        {
          "output_type": "execute_result",
          "data": {
            "text/plain": [
              "[3, 8, 8, 0, 6]"
            ]
          },
          "metadata": {
            "tags": []
          },
          "execution_count": 25
        }
      ]
    },
    {
      "cell_type": "code",
      "metadata": {
        "colab": {
          "base_uri": "https://localhost:8080/"
        },
        "id": "LNCEqor1-2YA",
        "outputId": "28fbdbb5-ec44-42a3-edca-acc23eba054b"
      },
      "source": [
        "y_test[:5]"
      ],
      "execution_count": 26,
      "outputs": [
        {
          "output_type": "execute_result",
          "data": {
            "text/plain": [
              "array([[3],\n",
              "       [8],\n",
              "       [8],\n",
              "       [0],\n",
              "       [6]], dtype=uint8)"
            ]
          },
          "metadata": {
            "tags": []
          },
          "execution_count": 26
        }
      ]
    },
    {
      "cell_type": "code",
      "metadata": {
        "colab": {
          "base_uri": "https://localhost:8080/",
          "height": 173
        },
        "id": "iBhrhZSk-3Qo",
        "outputId": "b6f96965-aa27-4482-9961-119bbdfbcc83"
      },
      "source": [
        "plot_sample(X_test, y_test,3)"
      ],
      "execution_count": 33,
      "outputs": [
        {
          "output_type": "display_data",
          "data": {
            "image/png": "[encoded data removed]",
            "text/plain": [
              "<Figure size 1080x144 with 1 Axes>"
            ]
          },
          "metadata": {
            "tags": [],
            "needs_background": "light"
          }
        }
      ]
    },
    {
      "cell_type": "code",
      "metadata": {
        "colab": {
          "base_uri": "https://localhost:8080/",
          "height": 35
        },
        "id": "rxtUZtiI-63_",
        "outputId": "4a45e115-e06f-42a4-833f-0a3d82238806"
      },
      "source": [
        "classes[y_classes[3]]"
      ],
      "execution_count": 34,
      "outputs": [
        {
          "output_type": "execute_result",
          "data": {
            "application/vnd.google.colaboratory.intrinsic+json": {
              "type": "string"
            },
            "text/plain": [
              "'airplane'"
            ]
          },
          "metadata": {
            "tags": []
          },
          "execution_count": 34
        }
      ]
    },
    {
      "cell_type": "code",
      "metadata": {
        "colab": {
          "base_uri": "https://localhost:8080/",
          "height": 35
        },
        "id": "LjvfS6fZ-95R",
        "outputId": "094aa32e-d776-46a1-e15f-abfb9e55abdb"
      },
      "source": [
        "\n",
        "classes[y_classes[3]]"
      ],
      "execution_count": 35,
      "outputs": [
        {
          "output_type": "execute_result",
          "data": {
            "application/vnd.google.colaboratory.intrinsic+json": {
              "type": "string"
            },
            "text/plain": [
              "'airplane'"
            ]
          },
          "metadata": {
            "tags": []
          },
          "execution_count": 35
        }
      ]
    },
    {
      "cell_type": "code",
      "metadata": {
        "id": "S9wWDyJQAE0C"
      },
      "source": [
        ""
      ],
      "execution_count": null,
      "outputs": []
    }
  ]
}